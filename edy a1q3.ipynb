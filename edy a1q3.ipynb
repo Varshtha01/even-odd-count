{
 "cells": [
  {
   "cell_type": "code",
   "execution_count": 1,
   "id": "75f3ed3f",
   "metadata": {},
   "outputs": [
    {
     "name": "stdout",
     "output_type": "stream",
     "text": [
      "9\n",
      "5\n",
      "4\n"
     ]
    }
   ],
   "source": [
    "# even odd\n",
    "n=int(input())\n",
    "Evencount=0\n",
    "Oddcount=0\n",
    "for i in range(n):\n",
    "    if i%2==0:\n",
    "        Evencount = Evencount+1\n",
    "    else :\n",
    "        Oddcount=Oddcount+1\n",
    "print(Evencount)\n",
    "print(Oddcount)\n",
    "    "
   ]
  },
  {
   "cell_type": "code",
   "execution_count": null,
   "id": "7b0ebf48",
   "metadata": {},
   "outputs": [],
   "source": []
  }
 ],
 "metadata": {
  "kernelspec": {
   "display_name": "Python 3",
   "language": "python",
   "name": "python3"
  },
  "language_info": {
   "codemirror_mode": {
    "name": "ipython",
    "version": 3
   },
   "file_extension": ".py",
   "mimetype": "text/x-python",
   "name": "python",
   "nbconvert_exporter": "python",
   "pygments_lexer": "ipython3",
   "version": "3.8.8"
  }
 },
 "nbformat": 4,
 "nbformat_minor": 5
}
